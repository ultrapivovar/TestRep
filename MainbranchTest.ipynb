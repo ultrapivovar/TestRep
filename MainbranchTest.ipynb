{
  "nbformat": 4,
  "nbformat_minor": 0,
  "metadata": {
    "colab": {
      "provenance": []
    },
    "kernelspec": {
      "name": "python3",
      "display_name": "Python 3"
    },
    "language_info": {
      "name": "python"
    }
  },
  "cells": [
    {
      "cell_type": "code",
      "execution_count": null,
      "metadata": {
        "id": "hDhrhUL94QSH"
      },
      "outputs": [],
      "source": [
        "#\n",
        "#main test\n",
        "# someeee ha"
        "# add from 2 branch
      ]
    }
  ]
}
